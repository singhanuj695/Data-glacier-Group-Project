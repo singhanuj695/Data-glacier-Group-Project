{
 "cells": [
  {
   "cell_type": "code",
   "execution_count": 1,
   "metadata": {
    "collapsed": false,
    "pycharm": {
     "name": "#%%\n"
    }
   },
   "outputs": [],
   "source": [
    "import os.path\n",
    "\n",
    "import numpy as np\n",
    "import pandas as pd\n",
    "import matplotlib.pyplot as plt\n",
    "import seaborn as sns\n",
    "import warnings\n",
    "\n",
    "%matplotlib inline\n",
    "sns.set()\n",
    "warnings.filterwarnings(\"ignore\")"
   ]
  },
  {
   "cell_type": "markdown",
   "metadata": {
    "collapsed": false,
    "pycharm": {
     "name": "#%% md\n"
    }
   },
   "source": [
    "## Loading the cleaned data"
   ]
  },
  {
   "cell_type": "code",
   "execution_count": 2,
   "metadata": {
    "collapsed": false,
    "pycharm": {
     "name": "#%%\n"
    }
   },
   "outputs": [
    {
     "data": {
      "text/plain": "    age        job  marital    education housing loan    contact month  \\\n0  56.0  housemaid  married     basic.4y      no   no  telephone   may   \n1  57.0   services  married  high.school      no   no  telephone   may   \n2  37.0   services  married  high.school     yes   no  telephone   may   \n3  40.0     admin.  married     basic.6y      no   no  telephone   may   \n4  56.0   services  married  high.school      no  yes  telephone   may   \n\n  day_of_week  duration  campaign  previous     poutcome  cons.price.idx  \\\n0         mon     261.0       1.0       0.0  nonexistent          93.994   \n1         mon     149.0       1.0       0.0  nonexistent          93.994   \n2         mon     226.0       1.0       0.0  nonexistent          93.994   \n3         mon     151.0       1.0       0.0  nonexistent          93.994   \n4         mon     307.0       1.0       0.0  nonexistent          93.994   \n\n   cons.conf.idx    y       PC1  \n0          -36.4  0.0 -1.015079  \n1          -36.4  0.0 -1.015079  \n2          -36.4  0.0 -1.015079  \n3          -36.4  0.0 -1.015079  \n4          -36.4  0.0 -1.015079  ",
      "text/html": "<div>\n<style scoped>\n    .dataframe tbody tr th:only-of-type {\n        vertical-align: middle;\n    }\n\n    .dataframe tbody tr th {\n        vertical-align: top;\n    }\n\n    .dataframe thead th {\n        text-align: right;\n    }\n</style>\n<table border=\"1\" class=\"dataframe\">\n  <thead>\n    <tr style=\"text-align: right;\">\n      <th></th>\n      <th>age</th>\n      <th>job</th>\n      <th>marital</th>\n      <th>education</th>\n      <th>housing</th>\n      <th>loan</th>\n      <th>contact</th>\n      <th>month</th>\n      <th>day_of_week</th>\n      <th>duration</th>\n      <th>campaign</th>\n      <th>previous</th>\n      <th>poutcome</th>\n      <th>cons.price.idx</th>\n      <th>cons.conf.idx</th>\n      <th>y</th>\n      <th>PC1</th>\n    </tr>\n  </thead>\n  <tbody>\n    <tr>\n      <th>0</th>\n      <td>56.0</td>\n      <td>housemaid</td>\n      <td>married</td>\n      <td>basic.4y</td>\n      <td>no</td>\n      <td>no</td>\n      <td>telephone</td>\n      <td>may</td>\n      <td>mon</td>\n      <td>261.0</td>\n      <td>1.0</td>\n      <td>0.0</td>\n      <td>nonexistent</td>\n      <td>93.994</td>\n      <td>-36.4</td>\n      <td>0.0</td>\n      <td>-1.015079</td>\n    </tr>\n    <tr>\n      <th>1</th>\n      <td>57.0</td>\n      <td>services</td>\n      <td>married</td>\n      <td>high.school</td>\n      <td>no</td>\n      <td>no</td>\n      <td>telephone</td>\n      <td>may</td>\n      <td>mon</td>\n      <td>149.0</td>\n      <td>1.0</td>\n      <td>0.0</td>\n      <td>nonexistent</td>\n      <td>93.994</td>\n      <td>-36.4</td>\n      <td>0.0</td>\n      <td>-1.015079</td>\n    </tr>\n    <tr>\n      <th>2</th>\n      <td>37.0</td>\n      <td>services</td>\n      <td>married</td>\n      <td>high.school</td>\n      <td>yes</td>\n      <td>no</td>\n      <td>telephone</td>\n      <td>may</td>\n      <td>mon</td>\n      <td>226.0</td>\n      <td>1.0</td>\n      <td>0.0</td>\n      <td>nonexistent</td>\n      <td>93.994</td>\n      <td>-36.4</td>\n      <td>0.0</td>\n      <td>-1.015079</td>\n    </tr>\n    <tr>\n      <th>3</th>\n      <td>40.0</td>\n      <td>admin.</td>\n      <td>married</td>\n      <td>basic.6y</td>\n      <td>no</td>\n      <td>no</td>\n      <td>telephone</td>\n      <td>may</td>\n      <td>mon</td>\n      <td>151.0</td>\n      <td>1.0</td>\n      <td>0.0</td>\n      <td>nonexistent</td>\n      <td>93.994</td>\n      <td>-36.4</td>\n      <td>0.0</td>\n      <td>-1.015079</td>\n    </tr>\n    <tr>\n      <th>4</th>\n      <td>56.0</td>\n      <td>services</td>\n      <td>married</td>\n      <td>high.school</td>\n      <td>no</td>\n      <td>yes</td>\n      <td>telephone</td>\n      <td>may</td>\n      <td>mon</td>\n      <td>307.0</td>\n      <td>1.0</td>\n      <td>0.0</td>\n      <td>nonexistent</td>\n      <td>93.994</td>\n      <td>-36.4</td>\n      <td>0.0</td>\n      <td>-1.015079</td>\n    </tr>\n  </tbody>\n</table>\n</div>"
     },
     "execution_count": 2,
     "metadata": {},
     "output_type": "execute_result"
    }
   ],
   "source": [
    "bank_additional_cleaned = pd.read_csv('bank_additional_cleaned.csv')\n",
    "bank_additional_cleaned.head()"
   ]
  },
  {
   "cell_type": "code",
   "execution_count": 3,
   "metadata": {
    "collapsed": false,
    "pycharm": {
     "name": "#%%\n"
    }
   },
   "outputs": [
    {
     "name": "stdout",
     "output_type": "stream",
     "text": [
      "<class 'pandas.core.frame.DataFrame'>\n",
      "RangeIndex: 37091 entries, 0 to 37090\n",
      "Data columns (total 17 columns):\n",
      " #   Column          Non-Null Count  Dtype  \n",
      "---  ------          --------------  -----  \n",
      " 0   age             37091 non-null  float64\n",
      " 1   job             37091 non-null  object \n",
      " 2   marital         37091 non-null  object \n",
      " 3   education       37091 non-null  object \n",
      " 4   housing         37091 non-null  object \n",
      " 5   loan            37091 non-null  object \n",
      " 6   contact         37091 non-null  object \n",
      " 7   month           37091 non-null  object \n",
      " 8   day_of_week     37091 non-null  object \n",
      " 9   duration        37091 non-null  float64\n",
      " 10  campaign        37091 non-null  float64\n",
      " 11  previous        37091 non-null  float64\n",
      " 12  poutcome        37091 non-null  object \n",
      " 13  cons.price.idx  37091 non-null  float64\n",
      " 14  cons.conf.idx   37091 non-null  float64\n",
      " 15  y               37091 non-null  float64\n",
      " 16  PC1             33551 non-null  float64\n",
      "dtypes: float64(8), object(9)\n",
      "memory usage: 4.8+ MB\n"
     ]
    }
   ],
   "source": [
    "bank_additional_cleaned.info()"
   ]
  }
 ],
 "metadata": {
  "kernelspec": {
   "display_name": "Python 3",
   "language": "python",
   "name": "python3"
  },
  "language_info": {
   "codemirror_mode": {
    "name": "ipython",
    "version": 3
   },
   "file_extension": ".py",
   "mimetype": "text/x-python",
   "name": "python",
   "nbconvert_exporter": "python",
   "pygments_lexer": "ipython3",
   "version": "3.10.5"
  }
 },
 "nbformat": 4,
 "nbformat_minor": 0
}